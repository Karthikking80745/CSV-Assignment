{
 "cells": [
  {
   "cell_type": "code",
   "execution_count": 1,
   "id": "898932f2",
   "metadata": {},
   "outputs": [],
   "source": [
    "import pandas as pd\n",
    "import matplotlib.pyplot as plt\n",
    "from transformers import pipeline"
   ]
  },
  {
   "cell_type": "code",
   "execution_count": 2,
   "id": "9879a388",
   "metadata": {},
   "outputs": [],
   "source": [
    "def read_csv(file_path):\n",
    "    \"\"\"Reads a CSV file and returns a DataFrame.\"\"\"\n",
    "    return pd.read_csv(file_path)"
   ]
  },
  {
   "cell_type": "code",
   "execution_count": 3,
   "id": "20261819",
   "metadata": {},
   "outputs": [],
   "source": [
    "def calculate_statistics(data):\n",
    "    \"\"\"Calculates basic statistics for the given DataFrame.\"\"\"\n",
    "    numeric_data = data.select_dtypes(include=[pd.np.number])  # Select only numeric columns\n",
    "    mean = numeric_data.mean()\n",
    "    median = numeric_data.median()\n",
    "    mode = numeric_data.mode().iloc[0]\n",
    "    std_dev = numeric_data.std()\n",
    "    corr = numeric_data.corr()\n",
    "    return {\"mean\": mean, \"median\": median, \"mode\": mode, \"std_dev\": std_dev, \"corr\": corr}"
   ]
  },
  {
   "cell_type": "code",
   "execution_count": 15,
   "id": "7bbe4814",
   "metadata": {},
   "outputs": [],
   "source": [
    "def generate_histogram(data, column):\n",
    "    \"\"\"Generates a histogram for the specified column in the DataFrame.\"\"\"\n",
    "    plt.hist(data[column])\n",
    "    plt.title(f'Histogram of {column}')\n",
    "    plt.xlabel(column)\n",
    "    plt.ylabel('Frequency')\n",
    "    plt.show()"
   ]
  },
  {
   "cell_type": "code",
   "execution_count": 5,
   "id": "fcaf1e3d",
   "metadata": {},
   "outputs": [],
   "source": [
    "def generate_scatter_plot(data, column1, column2):\n",
    "    \"\"\"Generates a scatter plot for the specified columns in the DataFrame.\"\"\"\n",
    "    plt.scatter(data[column1], data[column2])\n",
    "    plt.title(f'Scatter Plot of {column1} vs {column2}')\n",
    "    plt.xlabel(column1)\n",
    "    plt.ylabel(column2)\n",
    "    plt.show()"
   ]
  },
  {
   "cell_type": "code",
   "execution_count": 6,
   "id": "d107fb20",
   "metadata": {},
   "outputs": [],
   "source": [
    "def generate_line_plot(data, column):\n",
    "    \"\"\"Generates a line plot for the specified column in the DataFrame.\"\"\"\n",
    "    plt.plot(data[column])\n",
    "    plt.title(f'Line Plot of {column}')\n",
    "    plt.xlabel('Index')\n",
    "    plt.ylabel(column)\n",
    "    plt.show()"
   ]
  },
  {
   "cell_type": "code",
   "execution_count": 7,
   "id": "1eb07898",
   "metadata": {},
   "outputs": [],
   "source": [
    "def ask_question(question):\n",
    "    \"\"\"Uses LLM to generate an answer for the given question.\"\"\"\n",
    "    model = pipeline(\"text-generation\", model=\"EleutherAI/gpt-neo-1.3B\")\n",
    "    response = model(question, max_length=50, num_return_sequences=1)\n",
    "    return response[0]['generated_text']\n"
   ]
  },
  {
   "cell_type": "code",
   "execution_count": 16,
   "id": "549e9a92",
   "metadata": {},
   "outputs": [
    {
     "name": "stdout",
     "output_type": "stream",
     "text": [
      "Data:\n",
      "    ID   Name  Age  Height  Weight  Score\n",
      "0   1   John   22     5.9      70     85\n",
      "1   2   Jane   24     5.7      60     90\n",
      "2   3    Tom   23     6.0      75     88\n",
      "3   4   Lisa   25     5.5      55     92\n",
      "4   5  Steve   22     5.8      68     87\n"
     ]
    }
   ],
   "source": [
    "\n",
    "# Main execution\n",
    "\n",
    "# Step 1: Read the CSV file\n",
    "file_path = 'data.csv'  # Ensure this file is in the same directory as the notebook\n",
    "data = read_csv(file_path)\n",
    "print(\"Data:\\n\", data.head())"
   ]
  },
  {
   "cell_type": "code",
   "execution_count": 17,
   "id": "883ee056",
   "metadata": {},
   "outputs": [
    {
     "name": "stdout",
     "output_type": "stream",
     "text": [
      "\n",
      "Statistics:\n",
      " {'mean': ID         4.5000\n",
      "Age       23.5000\n",
      "Height     5.7625\n",
      "Weight    65.6250\n",
      "Score     89.0000\n",
      "dtype: float64, 'median': ID         4.50\n",
      "Age       23.50\n",
      "Height     5.75\n",
      "Weight    65.50\n",
      "Score     89.00\n",
      "dtype: float64, 'mode': ID         1.0\n",
      "Age       22.0\n",
      "Height     5.7\n",
      "Weight    55.0\n",
      "Score     85.0\n",
      "Name: 0, dtype: float64, 'std_dev': ID        2.449490\n",
      "Age       1.195229\n",
      "Height    0.168502\n",
      "Weight    6.738747\n",
      "Score     2.927700\n",
      "dtype: float64, 'corr':               ID       Age    Height    Weight     Score\n",
      "ID      1.000000  0.390360 -0.224975 -0.064910  0.398410\n",
      "Age     0.390360  1.000000 -0.744793 -0.753808  0.938971\n",
      "Height -0.224975 -0.744793  1.000000  0.967171 -0.781870\n",
      "Weight -0.064910 -0.753808  0.967171  1.000000 -0.767542\n",
      "Score   0.398410  0.938971 -0.781870 -0.767542  1.000000}\n"
     ]
    },
    {
     "name": "stderr",
     "output_type": "stream",
     "text": [
      "C:\\Users\\User\\AppData\\Local\\Temp\\ipykernel_5924\\3423959612.py:3: FutureWarning: The pandas.np module is deprecated and will be removed from pandas in a future version. Import numpy directly instead.\n",
      "  numeric_data = data.select_dtypes(include=[pd.np.number])  # Select only numeric columns\n"
     ]
    }
   ],
   "source": [
    "# Step 2: Calculate statistics\n",
    "stats = calculate_statistics(data)\n",
    "print(\"\\nStatistics:\\n\", stats)\n"
   ]
  },
  {
   "cell_type": "code",
   "execution_count": 18,
   "id": "5549c947",
   "metadata": {},
   "outputs": [
    {
     "data": {
      "image/png": "[encoded data removed]",
      "text/plain": [
       "<Figure size 432x288 with 1 Axes>"
      ]
     },
     "metadata": {
      "needs_background": "light"
     },
     "output_type": "display_data"
    },
    {
     "data": {
      "image/png": "[encoded data removed]",
      "text/plain": [
       "<Figure size 432x288 with 1 Axes>"
      ]
     },
     "metadata": {
      "needs_background": "light"
     },
     "output_type": "display_data"
    },
    {
     "data": {
      "image/png": "[encoded data removed]",
      "text/plain": [
       "<Figure size 432x288 with 1 Axes>"
      ]
     },
     "metadata": {
      "needs_background": "light"
     },
     "output_type": "display_data"
    }
   ],
   "source": [
    "# Step 3: Generate plots\n",
    "generate_histogram(data, 'Age')\n",
    "generate_scatter_plot(data, 'Height', 'Weight')\n",
    "generate_line_plot(data, 'Score')"
   ]
  },
  {
   "cell_type": "code",
   "execution_count": 19,
   "id": "31dce60e",
   "metadata": {},
   "outputs": [
    {
     "data": {
      "application/vnd.jupyter.widget-view+json": {
       "model_id": "7a32485583f54b0893e057951f46062b",
       "version_major": 2,
       "version_minor": 0
      },
      "text/plain": [
       "model.safetensors:   0%|          | 0.00/5.31G [00:00<?, ?B/s]"
      ]
     },
     "metadata": {},
     "output_type": "display_data"
    },
    {
     "name": "stderr",
     "output_type": "stream",
     "text": [
      "C:\\Users\\User\\anaconda3\\lib\\site-packages\\huggingface_hub\\file_download.py:159: UserWarning: `huggingface_hub` cache-system uses symlinks by default to efficiently store duplicated files but your machine does not support them in C:\\Users\\User\\.cache\\huggingface\\hub\\models--EleutherAI--gpt-neo-1.3B. Caching files will still work but in a degraded version that might require more space on your disk. This warning can be disabled by setting the `HF_HUB_DISABLE_SYMLINKS_WARNING` environment variable. For more details, see https://huggingface.co/docs/huggingface_hub/how-to-cache#limitations.\n",
      "To support symlinks on Windows, you either need to activate Developer Mode or to run Python as an administrator. In order to see activate developer mode, see this article: https://docs.microsoft.com/en-us/windows/apps/get-started/enable-your-device-for-development\n",
      "  warnings.warn(message)\n",
      "Truncation was not explicitly activated but `max_length` is provided a specific value, please use `truncation=True` to explicitly truncate examples to max length. Defaulting to 'longest_first' truncation strategy. If you encode pairs of sequences (GLUE-style) with the tokenizer you can select this strategy more precisely by providing a specific strategy to `truncation`.\n",
      "Setting `pad_token_id` to `eos_token_id`:50256 for open-end generation.\n"
     ]
    },
    {
     "name": "stdout",
     "output_type": "stream",
     "text": [
      "\n",
      "Answer:\n",
      " What is the average age of participants? What stage of change is being promoted/supported?\n",
      "\n",
      "What is the average time of exposure to the program and how long will the intervention last? How long will the program take?\n",
      "\n",
      "How are the\n"
     ]
    }
   ],
   "source": [
    "# Step 4: Answer a question using LLM\n",
    "question = \"What is the average age of participants?\"\n",
    "answer = ask_question(question)\n",
    "print(\"\\nAnswer:\\n\", answer)"
   ]
  },
  {
   "cell_type": "code",
   "execution_count": null,
   "id": "34e98479",
   "metadata": {},
   "outputs": [],
   "source": []
  }
 ],
 "metadata": {
  "kernelspec": {
   "display_name": "Python 3 (ipykernel)",
   "language": "python",
   "name": "python3"
  },
  "language_info": {
   "codemirror_mode": {
    "name": "ipython",
    "version": 3
   },
   "file_extension": ".py",
   "mimetype": "text/x-python",
   "name": "python",
   "nbconvert_exporter": "python",
   "pygments_lexer": "ipython3",
   "version": "3.9.12"
  }
 },
 "nbformat": 4,
 "nbformat_minor": 5
}
